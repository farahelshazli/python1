{
 "cells": [
  {
   "cell_type": "code",
   "execution_count": 12,
   "id": "03b7139e",
   "metadata": {},
   "outputs": [
    {
     "name": "stdout",
     "output_type": "stream",
     "text": [
      "3199\n"
     ]
    }
   ],
   "source": [
    "for x in range(2000 , 3200):\n",
    "    x/7==0\n",
    "    x*5!=1\n",
    "print(x)"
   ]
  },
  {
   "cell_type": "code",
   "execution_count": 52,
   "id": "a501da15",
   "metadata": {},
   "outputs": [
    {
     "name": "stdout",
     "output_type": "stream",
     "text": [
      "120\n"
     ]
    }
   ],
   "source": [
    "n=1\n",
    "x=5\n",
    "for i in range(1,x+1):\n",
    "    n *= i\n",
    "print(n)\n"
   ]
  },
  {
   "cell_type": "code",
   "execution_count": 37,
   "id": "013093c4",
   "metadata": {},
   "outputs": [
    {
     "name": "stdout",
     "output_type": "stream",
     "text": [
      "{1: 1, 2: 4, 3: 9, 4: 16, 5: 25, 6: 36, 7: 49, 8: 64}\n"
     ]
    }
   ],
   "source": [
    "d={}\n",
    "for i in range(1,9):\n",
    "    d[i]=i*i\n",
    "    \n",
    "print(d)"
   ]
  },
  {
   "cell_type": "code",
   "execution_count": 43,
   "id": "90ab449e",
   "metadata": {},
   "outputs": [
    {
     "data": {
      "text/plain": [
       "'kiten'"
      ]
     },
     "execution_count": 43,
     "metadata": {},
     "output_type": "execute_result"
    }
   ],
   "source": [
    "def missing_char(str, n):\n",
    "    return (str[:n] +str[n+1:])\n",
    "missing_char(\"kitten\",3)"
   ]
  },
  {
   "cell_type": "code",
   "execution_count": 44,
   "id": "78bd6eec",
   "metadata": {},
   "outputs": [
    {
     "name": "stdout",
     "output_type": "stream",
     "text": [
      "[[0, 1], [2, 3], [4, 5]]\n"
     ]
    }
   ],
   "source": [
    "import numpy as np\n",
    "new_array=np.array([[0, 1], [2, 3], [4, 5]])\n",
    "print(new_array.tolist())"
   ]
  },
  {
   "cell_type": "code",
   "execution_count": 53,
   "id": "b5f79296",
   "metadata": {},
   "outputs": [
    {
     "name": "stdout",
     "output_type": "stream",
     "text": [
      "Covariance matrix of the said arrays: [[ 1. -1.]\n",
      " [-1.  1.]]\n"
     ]
    }
   ],
   "source": [
    "import numpy as np\n",
    "array1 = ([0,1,2])\n",
    "array2 = ([2,1,0])\n",
    "print(\"Covariance matrix of the said arrays:\",np.cov(array1, array2))"
   ]
  },
  {
   "cell_type": "code",
   "execution_count": null,
   "id": "b4131133",
   "metadata": {},
   "outputs": [],
   "source": []
  }
 ],
 "metadata": {
  "kernelspec": {
   "display_name": "Python 3 (ipykernel)",
   "language": "python",
   "name": "python3"
  },
  "language_info": {
   "codemirror_mode": {
    "name": "ipython",
    "version": 3
   },
   "file_extension": ".py",
   "mimetype": "text/x-python",
   "name": "python",
   "nbconvert_exporter": "python",
   "pygments_lexer": "ipython3",
   "version": "3.11.4"
  }
 },
 "nbformat": 4,
 "nbformat_minor": 5
}
